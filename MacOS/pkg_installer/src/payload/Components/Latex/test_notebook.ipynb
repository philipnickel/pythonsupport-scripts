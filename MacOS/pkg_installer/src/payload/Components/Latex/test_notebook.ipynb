{
 "cells": [
  {
   "cell_type": "markdown",
   "metadata": {},
   "source": [
    "# LaTeX PDF Export Test\n",
    "\n",
    "This notebook tests that LaTeX components are properly installed for PDF export from Jupyter notebooks.\n",
    "\n",
    "## Mathematical Expressions\n",
    "\n",
    "Here's a mathematical expression that requires LaTeX:\n",
    "\n",
    "$$\\int_{-\\infty}^{\\infty} e^{-x^2} dx = \\sqrt{\\pi}$$\n",
    "\n",
    "## Code and Output\n",
    "\n",
    "Let's include some Python code with output:"
   ]
  },
  {
   "cell_type": "code",
   "execution_count": null,
   "metadata": {},
   "outputs": [],
   "source": [
    "import numpy as np\n",
    "import matplotlib.pyplot as plt\n",
    "\n",
    "# Generate sample data\n",
    "x = np.linspace(0, 2*np.pi, 100)\n",
    "y = np.sin(x)\n",
    "\n",
    "# Create a simple plot\n",
    "plt.figure(figsize=(8, 4))\n",
    "plt.plot(x, y, 'b-', linewidth=2, label='sin(x)')\n",
    "plt.xlabel('x')\n",
    "plt.ylabel('sin(x)')\n",
    "plt.title('Simple Sine Wave')\n",
    "plt.grid(True, alpha=0.3)\n",
    "plt.legend()\n",
    "plt.tight_layout()\n",
    "plt.show()\n",
    "\n",
    "print('Successfully generated a plot!')\n",
    "print(f'Maximum value: {np.max(y):.3f}')\n",
    "print(f'Minimum value: {np.min(y):.3f}')"
   ]
  },
  {
   "cell_type": "markdown",
   "metadata": {},
   "source": [
    "## More LaTeX Features\n",
    "\n",
    "Testing inline math: $f(x) = x^2 + 2x + 1$\n",
    "\n",
    "Testing aligned equations:\n",
    "\n",
    "\\begin{align}\n",
    "f(x) &= x^2 + 2x + 1 \\\\\n",
    "&= (x + 1)^2\n",
    "\\end{align}\n",
    "\n",
    "## Lists and Formatting\n",
    "\n",
    "- **Bold text**\n",
    "- *Italic text*\n",
    "- `Code text`\n",
    "\n",
    "1. Numbered item 1\n",
    "2. Numbered item 2\n",
    "3. Numbered item 3\n",
    "\n",
    "## Conclusion\n",
    "\n",
    "If this notebook exports to PDF successfully, the LaTeX installation is working properly!"
   ]
  }
 ],
 "metadata": {
  "kernelspec": {
   "display_name": "Python 3",
   "language": "python",
   "name": "python3"
  },
  "language_info": {
   "codemirror_mode": {
    "name": "ipython",
    "version": 3
   },
   "file_extension": ".py",
   "mimetype": "text/x-python",
   "name": "python",
   "nbconvert_exporter": "python",
   "pygments_lexer": "ipython3",
   "version": "3.11.0"
  }
 },
 "nbformat": 4,
 "nbformat_minor": 4
}